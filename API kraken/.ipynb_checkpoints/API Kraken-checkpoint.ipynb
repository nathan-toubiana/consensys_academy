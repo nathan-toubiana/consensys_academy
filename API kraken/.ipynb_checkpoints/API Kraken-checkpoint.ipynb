{
 "cells": [
  {
   "cell_type": "markdown",
   "metadata": {},
   "source": [
    "# API connection - Auxiliary Functions"
   ]
  },
  {
   "cell_type": "code",
   "execution_count": null,
   "metadata": {
    "collapsed": false
   },
   "outputs": [],
   "source": [
    "!pip install krakenex"
   ]
  },
  {
   "cell_type": "code",
   "execution_count": 1,
   "metadata": {
    "collapsed": false
   },
   "outputs": [],
   "source": [
    "import krakenex\n",
    "import datetime\n",
    "import calendar\n",
    "import pandas as pd\n",
    "import time\n",
    "import numpy as np"
   ]
  },
  {
   "cell_type": "code",
   "execution_count": 2,
   "metadata": {
    "collapsed": true
   },
   "outputs": [],
   "source": [
    "import bokeh\n",
    "from bokeh.plotting import figure, output_file, show"
   ]
  },
  {
   "cell_type": "code",
   "execution_count": 3,
   "metadata": {
    "collapsed": false
   },
   "outputs": [],
   "source": [
    "#Open the API\n",
    "k = krakenex.API()\n",
    "\n",
    "#takes date and returns nix time\n",
    "def date_nix(str_date):\n",
    "    try:\n",
    "        return calendar.timegm(datetime.datetime.strptime(str_date,'%m-%d-%Y %H-%M-%S').date().timetuple())\n",
    "    except:\n",
    "        try:\n",
    "            return calendar.timegm(datetime.datetime.strptime(str_date,'%m-%d-%Y').date().timetuple())\n",
    "        except:\n",
    "            print('Wrong date format: format should be \"%m-%d-%Y %H-%M-%S\" or \"%m-%d-%Y\" ')\n",
    "        \n",
    "#takes nix time and returns date\n",
    "def date_str(nix_time):\n",
    "    return datetime.datetime.fromtimestamp(nix_time).strftime('%m-%d-%Y %H-%M-%S')\n",
    "\n",
    "#return formated request data \n",
    "def req_Trades(pair, since=None):\n",
    "    # !! Need to find the correspondance since id - time\n",
    "    if since !=None:\n",
    "        return {'pair': pair, 'since': str(date_nix(since))+\"000000000\"} \n",
    "    else:\n",
    "        return  {'pair': pair}\n",
    "\n",
    "#Return a dataframe with the address \"function\" of the API\n",
    "def get_data(function,pair, since=None): \n",
    "    r= req_Trades(pair, since)\n",
    "    x=k.query_public(function,r)\n",
    "    data=x['result'][pair] \n",
    "    last_id=x['result']['last']\n",
    "    return {'df':pd.DataFrame(data), 'last_id':last_id}\n",
    "    \n",
    "\n",
    "def get_mean_change(data,serie):\n",
    "    data[serie]=data[serie].apply(lambda x: float(x))\n",
    "    mean=np.mean(data[serie])\n",
    "    change=(data[serie].iloc[len(data[serie])-1]-data[serie].iloc[0])/data[serie].iloc[0]\n",
    "    Max = np.max(data[serie])\n",
    "    Min = np.min(data[serie])\n",
    "    return {'Mean':mean, 'Change':change, 'Max':Max, 'Min':Min}"
   ]
  },
  {
   "cell_type": "markdown",
   "metadata": {},
   "source": [
    "# DataFrame - Charts - Analytics"
   ]
  },
  {
   "cell_type": "code",
   "execution_count": 4,
   "metadata": {
    "collapsed": false
   },
   "outputs": [],
   "source": [
    "#Spread\n",
    "def get_spread(pair,t=10,since=None):\n",
    "    data=get_data('Spread',pair,since)\n",
    "    df=data['df']\n",
    "    df.columns=['Time','Bid','Ask']\n",
    "    df['Spread']=df['Bid'].apply(lambda x: float(x))-df['Ask'].apply(lambda x: float(x))\n",
    "    x=calendar.timegm(time.gmtime())\n",
    "    #x=int(1+int(data['last_id'])/1000000000)\n",
    "    x0=x-t*60  \n",
    "    df=df[df['Time']>=x0]\n",
    "    bid_dict=get_mean_change(df,'Bid')\n",
    "    ask_dict=get_mean_change(df,'Ask')\n",
    "    spread_dict=get_mean_change(df,'Spread')\n",
    "    return {'Bid':bid_dict, 'Ask':ask_dict, 'Spread':spread_dict, 'df':df}\n",
    "              \n",
    "#Recent Trades\n",
    "\n",
    "def get_Trades(pair,t, since=None):\n",
    "    df=get_data('Trades',pair,since)['df']\n",
    "    df.columns=['Price','Volume','Time','Order_type','Market/lim','Misc']\n",
    "    x=calendar.timegm(time.gmtime())\n",
    "    x0=x-t*60  \n",
    "    df=df[df['Time']>=x0]\n",
    "    price_dict=get_mean_change(df,'Price')\n",
    "    Volume_dict=get_mean_change(df,'Volume')\n",
    "    df_buy=df[df['Order_type']=='b']\n",
    "    df_sell=df[df['Order_type']=='s']\n",
    "    price_buy_dict=get_mean_change(df_buy,'Price')\n",
    "    Volume_buy_dict=get_mean_change(df_buy,'Volume')\n",
    "    price_sell_dict=get_mean_change(df_sell,'Price')\n",
    "    Volume_sell_dict=get_mean_change(df_sell,'Volume')\n",
    "    \n",
    "    #Graph\n",
    "    \n",
    "    #Change time format\n",
    "    df['Time']=df['Time'].apply(lambda x: datetime.datetime.fromtimestamp(int(x)))\n",
    "    df_buy['Time']=df_buy['Time'].apply(lambda x: datetime.datetime.fromtimestamp(int(x)))\n",
    "    df_sell['Time']=df_sell['Time'].apply(lambda x: datetime.datetime.fromtimestamp(int(x)))\n",
    "    #Outputfile                                      \n",
    "    output_file(\"Trades_graph.html\") \n",
    "    #add graph                                      \n",
    "    p = figure(title=\"Price over periode\", x_axis_label='x', y_axis_label='y',width=800, height=500,x_axis_type=\"datetime\")                            \n",
    "    p.line(df_sell['Time'], df_sell['Price'], legend=\"XXBTZEUR_sell\", line_width=2)\n",
    "    p.line(df_buy['Time'], df_buy['Price'], legend=\"XXBTZEUR_buy\", line_width=2,line_color=\"red\")\n",
    "    p.circle(df['Time'], df['Price'], fill_color=\"white\",line_color='black', size=8)\n",
    "                                                                            \n",
    "    return {'Price':price_dict,'Volume':Volume_dict,'df':df,'Graph':p,'Buy_Order':{'Price':price_buy_dict, 'Volume':Volume_buy_dict},'Sell_Order':{'Price':price_sell_dict, 'Volume':Volume_sell_dict}}"
   ]
  },
  {
   "cell_type": "markdown",
   "metadata": {},
   "source": [
    "# Flask WebApp\n"
   ]
  },
  {
   "cell_type": "code",
   "execution_count": 10,
   "metadata": {
    "collapsed": false
   },
   "outputs": [
    {
     "name": "stdout",
     "output_type": "stream",
     "text": [
      "Collecting flask_wtf\n",
      "  Downloading Flask_WTF-0.14.2-py2.py3-none-any.whl\n",
      "Requirement already satisfied: Flask in ./anaconda/lib/python3.5/site-packages (from flask_wtf)\n",
      "Collecting WTForms (from flask_wtf)\n",
      "  Downloading WTForms-2.1.zip (553kB)\n",
      "\u001b[K    100% |████████████████████████████████| 563kB 738kB/s \n",
      "\u001b[?25hRequirement already satisfied: Werkzeug>=0.7 in ./anaconda/lib/python3.5/site-packages (from Flask->flask_wtf)\n",
      "Requirement already satisfied: itsdangerous>=0.21 in ./anaconda/lib/python3.5/site-packages (from Flask->flask_wtf)\n",
      "Requirement already satisfied: click>=2.0 in ./anaconda/lib/python3.5/site-packages (from Flask->flask_wtf)\n",
      "Requirement already satisfied: Jinja2>=2.4 in ./anaconda/lib/python3.5/site-packages (from Flask->flask_wtf)\n",
      "Requirement already satisfied: MarkupSafe>=0.23 in ./anaconda/lib/python3.5/site-packages (from Jinja2>=2.4->Flask->flask_wtf)\n",
      "Building wheels for collected packages: WTForms\n",
      "  Running setup.py bdist_wheel for WTForms ... \u001b[?25l-\b \b\\\b \b|\b \b/\b \bdone\n",
      "\u001b[?25h  Stored in directory: /Users/nathantoubiana/Library/Caches/pip/wheels/36/35/f3/7452cd24daeeaa5ec5b2ea13755316abc94e4e7702de29ba94\n",
      "Successfully built WTForms\n",
      "Installing collected packages: WTForms, flask-wtf\n",
      "Successfully installed WTForms-2.1 flask-wtf-0.14.2\n"
     ]
    }
   ],
   "source": [
    "!pip install flask_wtf"
   ]
  },
  {
   "cell_type": "code",
   "execution_count": 1,
   "metadata": {
    "collapsed": false
   },
   "outputs": [],
   "source": [
    "import flask\n",
    "from flask import Flask, session, render_template,url_for,request\n",
    "from flask_wtf import Form\n",
    "from flask import Flask, session, render_template,url_for,request\n",
    "from flask_wtf import Form\n",
    "from wtforms import SelectField"
   ]
  },
  {
   "cell_type": "code",
   "execution_count": null,
   "metadata": {
    "collapsed": false
   },
   "outputs": [
    {
     "name": "stderr",
     "output_type": "stream",
     "text": [
      " * Running on http://127.0.0.1:5000/ (Press CTRL+C to quit)\n",
      "127.0.0.1 - - [10/Jun/2017 15:23:46] \"GET / HTTP/1.1\" 200 -\n",
      "127.0.0.1 - - [10/Jun/2017 15:23:46] \"GET /static/style.css HTTP/1.1\" 200 -\n",
      "127.0.0.1 - - [10/Jun/2017 15:23:46] \"GET /static/Two-Bitcoins.jpg HTTP/1.1\" 200 -\n"
     ]
    }
   ],
   "source": [
    "app=Flask(__name__)\n",
    "app.secret_key = 'A0Zr98slkjdf984jnflskj_sdkfjhT'\n",
    "\n",
    "def get_homepage_links():\n",
    "    return [ {\"href\": url_for('Function'), \"label\":\"Select Function\"},]\n",
    "\n",
    "class UserForm(Form):\n",
    "    user = SelectField('Select Function', choices=list('Trades'))\n",
    "\n",
    "@app.route('/')\n",
    "def home():\n",
    "    session['data_loaded']= True\n",
    "    return render_template('home.html',links=get_homepage_links())\n",
    "\n",
    "@app.route('/Function')\n",
    "def Function():\n",
    "    print(\"Here will be the functions\")\n",
    "\n",
    "if __name__ == \"__main__\":\n",
    "    app.run()    "
   ]
  },
  {
   "cell_type": "code",
   "execution_count": null,
   "metadata": {
    "collapsed": false
   },
   "outputs": [],
   "source": []
  },
  {
   "cell_type": "code",
   "execution_count": null,
   "metadata": {
    "collapsed": false
   },
   "outputs": [],
   "source": []
  },
  {
   "cell_type": "code",
   "execution_count": null,
   "metadata": {
    "collapsed": false
   },
   "outputs": [],
   "source": []
  },
  {
   "cell_type": "code",
   "execution_count": null,
   "metadata": {
    "collapsed": false
   },
   "outputs": [],
   "source": []
  },
  {
   "cell_type": "code",
   "execution_count": null,
   "metadata": {
    "collapsed": false
   },
   "outputs": [],
   "source": []
  },
  {
   "cell_type": "code",
   "execution_count": null,
   "metadata": {
    "collapsed": false
   },
   "outputs": [],
   "source": []
  },
  {
   "cell_type": "code",
   "execution_count": null,
   "metadata": {
    "collapsed": false
   },
   "outputs": [],
   "source": []
  },
  {
   "cell_type": "code",
   "execution_count": null,
   "metadata": {
    "collapsed": false
   },
   "outputs": [],
   "source": []
  },
  {
   "cell_type": "code",
   "execution_count": null,
   "metadata": {
    "collapsed": false
   },
   "outputs": [],
   "source": []
  },
  {
   "cell_type": "code",
   "execution_count": null,
   "metadata": {
    "collapsed": false
   },
   "outputs": [],
   "source": []
  },
  {
   "cell_type": "code",
   "execution_count": null,
   "metadata": {
    "collapsed": false
   },
   "outputs": [],
   "source": []
  },
  {
   "cell_type": "code",
   "execution_count": null,
   "metadata": {
    "collapsed": false
   },
   "outputs": [],
   "source": []
  },
  {
   "cell_type": "code",
   "execution_count": null,
   "metadata": {
    "collapsed": false
   },
   "outputs": [],
   "source": []
  },
  {
   "cell_type": "code",
   "execution_count": null,
   "metadata": {
    "collapsed": false
   },
   "outputs": [],
   "source": []
  },
  {
   "cell_type": "code",
   "execution_count": null,
   "metadata": {
    "collapsed": false
   },
   "outputs": [],
   "source": []
  },
  {
   "cell_type": "code",
   "execution_count": null,
   "metadata": {
    "collapsed": false
   },
   "outputs": [],
   "source": []
  },
  {
   "cell_type": "code",
   "execution_count": null,
   "metadata": {
    "collapsed": true
   },
   "outputs": [],
   "source": []
  }
 ],
 "metadata": {
  "anaconda-cloud": {},
  "kernelspec": {
   "display_name": "Python [conda root]",
   "language": "python",
   "name": "conda-root-py"
  },
  "language_info": {
   "codemirror_mode": {
    "name": "ipython",
    "version": 3
   },
   "file_extension": ".py",
   "mimetype": "text/x-python",
   "name": "python",
   "nbconvert_exporter": "python",
   "pygments_lexer": "ipython3",
   "version": "3.5.2"
  }
 },
 "nbformat": 4,
 "nbformat_minor": 0
}
