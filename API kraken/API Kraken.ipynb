{
 "cells": [
  {
   "cell_type": "markdown",
   "metadata": {},
   "source": [
    "# API connection - Auxiliary Functions"
   ]
  },
  {
   "cell_type": "code",
   "execution_count": null,
   "metadata": {
    "collapsed": false
   },
   "outputs": [],
   "source": [
    "!pip install krakenex"
   ]
  },
  {
   "cell_type": "code",
   "execution_count": 3,
   "metadata": {
    "collapsed": false
   },
   "outputs": [],
   "source": [
    "import krakenex\n",
    "import datetime\n",
    "import calendar\n",
    "import pandas as pd\n",
    "import time\n",
    "import numpy as np"
   ]
  },
  {
   "cell_type": "code",
   "execution_count": 4,
   "metadata": {
    "collapsed": true
   },
   "outputs": [],
   "source": [
    "import bokeh\n",
    "from bokeh.plotting import figure, output_file, show"
   ]
  },
  {
   "cell_type": "code",
   "execution_count": 9,
   "metadata": {
    "collapsed": false
   },
   "outputs": [],
   "source": [
    "#Open the API\n",
    "k = krakenex.API()\n",
    "\n",
    "#takes date and returns nix time\n",
    "def date_nix(str_date):\n",
    "    try:\n",
    "        return calendar.timegm(datetime.datetime.strptime(str_date,'%m-%d-%Y %H-%M-%S').date().timetuple())\n",
    "    except:\n",
    "        try:\n",
    "            return calendar.timegm(datetime.datetime.strptime(str_date,'%m-%d-%Y').date().timetuple())\n",
    "        except:\n",
    "            print('Wrong date format: format should be \"%m-%d-%Y %H-%M-%S\" or \"%m-%d-%Y\" ')\n",
    "        \n",
    "#takes nix time and returns date\n",
    "def date_str(nix_time):\n",
    "    return datetime.datetime.fromtimestamp(nix_time).strftime('%m-%d-%Y %H-%M-%S')\n",
    "\n",
    "#return formated request data \n",
    "def req_Trades(pair, since=None):\n",
    "    # !! Need to find the correspondance since id - time\n",
    "    if since !=None:\n",
    "        return {'pair': pair, 'since': str(date_nix(since))+\"000000000\"} \n",
    "    else:\n",
    "        return  {'pair': pair}\n",
    "\n",
    "#Return a dataframe with the address \"function\" of the API\n",
    "def get_data(function,pair, since=None): \n",
    "    r= req_Trades(pair, since)\n",
    "    x=k.query_public(function,r)\n",
    "    data=x['result'][pair] \n",
    "    last_id=x['result']['last']\n",
    "    return {'df':pd.DataFrame(data), 'last_id':last_id}\n",
    "    \n",
    "\n",
    "def get_mean_change(data,serie):\n",
    "    data[serie]=data[serie].apply(lambda x: float(x))\n",
    "    mean=np.mean(data[serie])\n",
    "    change=(data[serie].iloc[len(data[serie])-1]-data[serie].iloc[0])/data[serie].iloc[0]\n",
    "    Max = np.max(data[serie])\n",
    "    Min = np.min(data[serie])\n",
    "    return {'Mean':mean, 'Change':change, 'Max':Max, 'Min':Min}"
   ]
  },
  {
   "cell_type": "markdown",
   "metadata": {},
   "source": [
    "# DataFrame - Charts - Analytics"
   ]
  },
  {
   "cell_type": "code",
   "execution_count": 10,
   "metadata": {
    "collapsed": false
   },
   "outputs": [],
   "source": [
    "#Spread\n",
    "def get_spread(pair,t=10,since=None):\n",
    "    data=get_data('Spread',pair,since)\n",
    "    df=data['df']\n",
    "    df.columns=['Time','Bid','Ask']\n",
    "    df['Spread']=df['Bid'].apply(lambda x: float(x))-df['Ask'].apply(lambda x: float(x))\n",
    "    x=calendar.timegm(time.gmtime())\n",
    "    #x=int(1+int(data['last_id'])/1000000000)\n",
    "    x0=x-t*60  \n",
    "    df=df[df['Time']>=x0]\n",
    "    bid_dict=get_mean_change(df,'Bid')\n",
    "    ask_dict=get_mean_change(df,'Ask')\n",
    "    spread_dict=get_mean_change(df,'Spread')\n",
    "    return {'Bid':bid_dict, 'Ask':ask_dict, 'Spread':spread_dict, 'df':df}\n",
    "              \n",
    "#Recent Trades\n",
    "\n",
    "def get_Trades(pair,t, since=None):\n",
    "    df=get_data('Trades',pair,since)['df']\n",
    "    df.columns=['Price','Volume','Time','Order_type','Market/lim','Misc']\n",
    "    x=calendar.timegm(time.gmtime())\n",
    "    x0=x-t*60  \n",
    "    df=df[df['Time']>=x0]\n",
    "    price_dict=get_mean_change(df,'Price')\n",
    "    Volume_dict=get_mean_change(df,'Volume')\n",
    "    df_buy=df[df['Order_type']=='b']\n",
    "    df_sell=df[df['Order_type']=='s']\n",
    "    price_buy_dict=get_mean_change(df_buy,'Price')\n",
    "    Volume_buy_dict=get_mean_change(df_buy,'Volume')\n",
    "    price_sell_dict=get_mean_change(df_sell,'Price')\n",
    "    Volume_sell_dict=get_mean_change(df_sell,'Volume')\n",
    "    \n",
    "    #Graph\n",
    "    \n",
    "    #Change time format\n",
    "    df['Time']=df['Time'].apply(lambda x: datetime.datetime.fromtimestamp(int(x)))\n",
    "    df_buy['Time']=df_buy['Time'].apply(lambda x: datetime.datetime.fromtimestamp(int(x)))\n",
    "    df_sell['Time']=df_sell['Time'].apply(lambda x: datetime.datetime.fromtimestamp(int(x)))\n",
    "    #Outputfile                                      \n",
    "    output_file(\"Trades_graph.html\") \n",
    "    #add graph                                      \n",
    "    p = figure(title=\"Price over periode\", x_axis_label='x', y_axis_label='y',width=800, height=500,x_axis_type=\"datetime\")                            \n",
    "    p.line(df_sell['Time'], df_sell['Price'], legend=\"XXBTZEUR_sell\", line_width=2)\n",
    "    p.line(df_buy['Time'], df_buy['Price'], legend=\"XXBTZEUR_buy\", line_width=2,line_color=\"red\")\n",
    "    p.circle(df['Time'], df['Price'], fill_color=\"white\",line_color='black', size=8)\n",
    "                                                                            \n",
    "    return {'Price':price_dict,'Volume':Volume_dict,'df':df,'Graph':p,'Buy_Order':{'Price':price_buy_dict, 'Volume':Volume_buy_dict},'Sell_Order':{'Price':price_sell_dict, 'Volume':Volume_sell_dict}}"
   ]
  },
  {
   "cell_type": "markdown",
   "metadata": {},
   "source": [
    "# Flask WebApp\n"
   ]
  },
  {
   "cell_type": "code",
   "execution_count": null,
   "metadata": {
    "collapsed": false
   },
   "outputs": [],
   "source": [
    "!pip install flask_wtf"
   ]
  },
  {
   "cell_type": "code",
   "execution_count": null,
   "metadata": {
    "collapsed": false
   },
   "outputs": [],
   "source": [
    "import flask\n",
    "from flask import Flask, session, render_template,url_for,request\n",
    "from flask_wtf import Form\n",
    "from flask import Flask, session, render_template,url_for,request\n",
    "from flask_wtf import Form\n",
    "from wtforms import SelectField"
   ]
  },
  {
   "cell_type": "code",
   "execution_count": null,
   "metadata": {
    "collapsed": false
   },
   "outputs": [],
   "source": [
    "app=Flask(__name__)\n",
    "app.secret_key = 'A0Zr98slkjdf984jnflskj_sdkfjhT'\n",
    "\n",
    "def get_homepage_links():\n",
    "    return [ {\"href\": url_for('Function'), \"label\":\"Select Function\"},]\n",
    "\n",
    "class UserForm(Form):\n",
    "    user = SelectField('Select Function', choices=list('Trades'))\n",
    "\n",
    "@app.route('/')\n",
    "def home():\n",
    "    session['data_loaded']= True\n",
    "    return render_template('home.html',links=get_homepage_links())\n",
    "\n",
    "@app.route('/Function')\n",
    "def Function():\n",
    "    print(\"Here will be the functions\")\n",
    "\n",
    "if __name__ == \"__main__\":\n",
    "    app.run()    "
   ]
  },
  {
   "cell_type": "code",
   "execution_count": null,
   "metadata": {
    "collapsed": false
   },
   "outputs": [],
   "source": [
    "app.close()"
   ]
  },
  {
   "cell_type": "code",
   "execution_count": null,
   "metadata": {
    "collapsed": false
   },
   "outputs": [],
   "source": []
  },
  {
   "cell_type": "code",
   "execution_count": null,
   "metadata": {
    "collapsed": false
   },
   "outputs": [],
   "source": [
    "calendar.timegm(datetime.datetime.strptime(14900000087,'%m-%d-%Y %H-%M-%S').date().timetuple()"
   ]
  },
  {
   "cell_type": "code",
   "execution_count": null,
   "metadata": {
    "collapsed": false
   },
   "outputs": [],
   "source": [
    "datetime.datetime.now()"
   ]
  },
  {
   "cell_type": "code",
   "execution_count": 13,
   "metadata": {
    "collapsed": false
   },
   "outputs": [
    {
     "data": {
      "text/plain": [
       "{'df':               0           1             2  3  4 5 \n",
       " 0    2553.73000  3.35475000  1.497124e+09  b  l   \n",
       " 1    2553.74400  0.10000000  1.497124e+09  b  l   \n",
       " 2    2553.98000  0.04099836  1.497124e+09  b  l   \n",
       " 3    2553.99900  0.10000000  1.497124e+09  b  l   \n",
       " 4    2554.00000  2.16177311  1.497124e+09  b  l   \n",
       " 5    2553.20000  0.14000000  1.497124e+09  s  l   \n",
       " 6    2553.00000  0.00177542  1.497124e+09  s  l   \n",
       " 7    2552.98800  0.36122959  1.497124e+09  s  l   \n",
       " 8    2552.98800  0.13877041  1.497124e+09  s  l   \n",
       " 9    2552.98800  0.00702959  1.497124e+09  b  m   \n",
       " 10   2553.70000  0.10000000  1.497124e+09  b  l   \n",
       " 11   2554.00000  0.26000000  1.497124e+09  b  l   \n",
       " 12   2553.01300  0.03229820  1.497124e+09  s  l   \n",
       " 13   2552.98800  0.00496192  1.497124e+09  b  l   \n",
       " 14   2554.00000  0.64000000  1.497124e+09  b  l   \n",
       " 15   2552.73300  0.93342093  1.497124e+09  s  l   \n",
       " 16   2554.00000  0.94513914  1.497124e+09  b  m   \n",
       " 17   2552.73300  0.10180000  1.497124e+09  s  l   \n",
       " 18   2553.99900  0.36878427  1.497124e+09  b  l   \n",
       " 19   2552.73300  0.31154699  1.497124e+09  s  l   \n",
       " 20   2552.73300  0.45974768  1.497124e+09  s  l   \n",
       " 21   2552.65000  0.06002423  1.497124e+09  s  l   \n",
       " 22   2552.65000  0.06002423  1.497124e+09  s  l   \n",
       " 23   2552.50000  1.94367737  1.497124e+09  s  l   \n",
       " 24   2552.50100  0.31575323  1.497124e+09  s  l   \n",
       " 25   2552.50100  0.68424677  1.497124e+09  s  l   \n",
       " 26   2552.50000  1.33973461  1.497124e+09  s  l   \n",
       " 27   2552.50000  1.03253967  1.497124e+09  s  l   \n",
       " 28   2553.74400  0.04000000  1.497124e+09  b  l   \n",
       " 29   2552.74600  1.26982764  1.497124e+09  s  l   \n",
       " ..          ...         ...           ... .. .. ..\n",
       " 970  2546.10100  1.30295761  1.497126e+09  s  m   \n",
       " 971  2546.10500  0.55292890  1.497126e+09  b  l   \n",
       " 972  2546.10500  0.44707110  1.497126e+09  b  l   \n",
       " 973  2546.10500  0.01532890  1.497126e+09  s  l   \n",
       " 974  2546.10500  0.31592765  1.497126e+09  s  l   \n",
       " 975  2546.10500  0.01240000  1.497126e+09  b  l   \n",
       " 976  2546.10500  0.13070153  1.497126e+09  s  l   \n",
       " 977  2546.10500  0.07305891  1.497126e+09  s  m   \n",
       " 978  2546.10100  0.59497109  1.497126e+09  s  m   \n",
       " 979  2546.10100  0.71642697  1.497126e+09  s  l   \n",
       " 980  2546.10400  0.07280000  1.497126e+09  b  l   \n",
       " 981  2546.10100  0.16100000  1.497126e+09  s  m   \n",
       " 982  2546.10100  0.12257303  1.497126e+09  s  l   \n",
       " 983  2546.10100  0.05222697  1.497126e+09  s  l   \n",
       " 984  2546.10100  0.93000000  1.497126e+09  s  m   \n",
       " 985  2552.19200  0.02088209  1.497126e+09  b  m   \n",
       " 986  2546.36100  0.02088209  1.497126e+09  s  l   \n",
       " 987  2546.10100  0.08211791  1.497126e+09  s  l   \n",
       " 988  2546.10100  0.03056340  1.497126e+09  s  l   \n",
       " 989  2552.00000  0.01593761  1.497126e+09  s  l   \n",
       " 990  2548.23800  0.04700000  1.497126e+09  b  l   \n",
       " 991  2552.00000  0.24211540  1.497126e+09  b  l   \n",
       " 992  2548.25000  0.10000000  1.497126e+09  s  l   \n",
       " 993  2548.23900  0.95300000  1.497126e+09  s  l   \n",
       " 994  2546.10100  0.31811867  1.497126e+09  s  l   \n",
       " 995  2546.10100  0.12400000  1.497126e+09  s  l   \n",
       " 996  2546.41800  0.13532000  1.497126e+09  s  l   \n",
       " 997  2546.10100  1.12180738  1.497126e+09  s  l   \n",
       " 998  2551.73900  0.05000000  1.497126e+09  b  l   \n",
       " 999  2551.99400  0.39213200  1.497126e+09  b  l   \n",
       " \n",
       " [1000 rows x 6 columns], 'last_id': '1497125838074579402'}"
      ]
     },
     "execution_count": 13,
     "metadata": {},
     "output_type": "execute_result"
    }
   ],
   "source": [
    "get_data('Trades','XXBTZEUR')"
   ]
  },
  {
   "cell_type": "code",
   "execution_count": 11,
   "metadata": {
    "collapsed": false
   },
   "outputs": [
    {
     "data": {
      "text/plain": [
       "0    1497123889\n",
       "1    1497123890\n",
       "2    1497123892\n",
       "3    1497123898\n",
       "4    1497123926\n",
       "Name: 2, dtype: int64"
      ]
     },
     "execution_count": 11,
     "metadata": {},
     "output_type": "execute_result"
    }
   ],
   "source": [
    "pd.DataFrame(get_data('Trades','XXBTZEUR')['df'])[2].astype(int).head()# since=None"
   ]
  },
  {
   "cell_type": "code",
   "execution_count": 16,
   "metadata": {
    "collapsed": false
   },
   "outputs": [
    {
     "ename": "SyntaxError",
     "evalue": "unexpected EOF while parsing (<ipython-input-16-bbc9af1ae357>, line 1)",
     "output_type": "error",
     "traceback": [
      "\u001b[0;36m  File \u001b[0;32m\"<ipython-input-16-bbc9af1ae357>\"\u001b[0;36m, line \u001b[0;32m1\u001b[0m\n\u001b[0;31m    calendar.timegm(datetime.datetime.strptime('09-06-2017 15-00-00','%m-%d-%Y %H-%M-%S').date().timetuple()\u001b[0m\n\u001b[0m                                                                                                            ^\u001b[0m\n\u001b[0;31mSyntaxError\u001b[0m\u001b[0;31m:\u001b[0m unexpected EOF while parsing\n"
     ]
    }
   ],
   "source": [
    "calendar.timegm(datetime.datetime.strptime('09-06-2017 15-00-00','%m-%d-%Y %H-%M-%S').date().timetuple()"
   ]
  },
  {
   "cell_type": "code",
   "execution_count": 19,
   "metadata": {
    "collapsed": false
   },
   "outputs": [
    {
     "ename": "NameError",
     "evalue": "name 'strptime' is not defined",
     "output_type": "error",
     "traceback": [
      "\u001b[0;31m---------------------------------------------------------------------------\u001b[0m",
      "\u001b[0;31mNameError\u001b[0m                                 Traceback (most recent call last)",
      "\u001b[0;32m<ipython-input-19-e160905f3dfc>\u001b[0m in \u001b[0;36m<module>\u001b[0;34m()\u001b[0m\n\u001b[0;32m----> 1\u001b[0;31m \u001b[0mstrptime\u001b[0m\u001b[0;34m(\u001b[0m\u001b[0;34m'09-06-2017 15-00-00'\u001b[0m\u001b[0;34m,\u001b[0m\u001b[0;34m'%m-%d-%Y %H-%M-%S'\u001b[0m\u001b[0;34m)\u001b[0m\u001b[0;34m\u001b[0m\u001b[0m\n\u001b[0m",
      "\u001b[0;31mNameError\u001b[0m: name 'strptime' is not defined"
     ]
    }
   ],
   "source": [
    "strptime('09-06-2017 15-00-00','%m-%d-%Y %H-%M-%S')"
   ]
  },
  {
   "cell_type": "code",
   "execution_count": 18,
   "metadata": {
    "collapsed": false
   },
   "outputs": [
    {
     "data": {
      "text/plain": [
       "1504656000"
      ]
     },
     "execution_count": 18,
     "metadata": {},
     "output_type": "execute_result"
    }
   ],
   "source": [
    "calendar.timegm(datetime.datetime.strptime('09-06-2017 15-00-00','%m-%d-%Y %H-%M-%S').date().timetuple())"
   ]
  },
  {
   "cell_type": "code",
   "execution_count": 20,
   "metadata": {
    "collapsed": false
   },
   "outputs": [
    {
     "data": {
      "text/plain": [
       "datetime.datetime(2017, 9, 6, 15, 0)"
      ]
     },
     "execution_count": 20,
     "metadata": {},
     "output_type": "execute_result"
    }
   ],
   "source": [
    "datetime.datetime.strptime('09-06-2017 15-00-00','%m-%d-%Y %H-%M-%S')"
   ]
  },
  {
   "cell_type": "code",
   "execution_count": null,
   "metadata": {
    "collapsed": true
   },
   "outputs": [],
   "source": []
  }
 ],
 "metadata": {
  "anaconda-cloud": {},
  "kernelspec": {
   "display_name": "Python [conda root]",
   "language": "python",
   "name": "conda-root-py"
  },
  "language_info": {
   "codemirror_mode": {
    "name": "ipython",
    "version": 3
   },
   "file_extension": ".py",
   "mimetype": "text/x-python",
   "name": "python",
   "nbconvert_exporter": "python",
   "pygments_lexer": "ipython3",
   "version": "3.5.2"
  }
 },
 "nbformat": 4,
 "nbformat_minor": 0
}
